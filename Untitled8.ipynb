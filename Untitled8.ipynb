{
  "nbformat": 4,
  "nbformat_minor": 0,
  "metadata": {
    "colab": {
      "provenance": [],
      "authorship_tag": "ABX9TyMfrEu4qlY0LboSejig2JiY",
      "include_colab_link": true
    },
    "kernelspec": {
      "name": "python3",
      "display_name": "Python 3"
    },
    "language_info": {
      "name": "python"
    }
  },
  "cells": [
    {
      "cell_type": "markdown",
      "metadata": {
        "id": "view-in-github",
        "colab_type": "text"
      },
      "source": [
        "<a href=\"https://colab.research.google.com/github/it21222672/modelcreation/blob/main/Untitled8.ipynb\" target=\"_parent\"><img src=\"https://colab.research.google.com/assets/colab-badge.svg\" alt=\"Open In Colab\"/></a>"
      ]
    },
    {
      "cell_type": "code",
      "execution_count": null,
      "metadata": {
        "id": "W7pYt8g7Nmt_",
        "colab": {
          "base_uri": "https://localhost:8080/"
        },
        "outputId": "9df49d78-fdb4-4e8b-c000-17a06426de35"
      },
      "outputs": [
        {
          "output_type": "stream",
          "name": "stdout",
          "text": [
            "Preprocessing complete. Data saved as 'preprocessed_news.csv'.\n"
          ]
        }
      ],
      "source": [
        "import pandas as pd\n",
        "import re\n",
        "import string\n",
        "import zipfile\n",
        "import os\n",
        "\n",
        "# Step 1: Extract ZIP File\n",
        "zip_path = \"archive.zip\"  # Replace with actual ZIP file path\n",
        "extract_path = \"extracted_data\"\n",
        "\n",
        "with zipfile.ZipFile(zip_path, \"r\") as zip_ref:\n",
        "    zip_ref.extractall(extract_path)\n",
        "\n",
        "# Step 2: Load the dataset\n",
        "df_fake = pd.read_csv(os.path.join(extract_path, \"Fake.csv\"))\n",
        "df_true = pd.read_csv(os.path.join(extract_path, \"True.csv\"))\n",
        "\n",
        "# Step 3: Add labels\n",
        "df_fake[\"label\"] = 0  # Fake news\n",
        "df_true[\"label\"] = 1  # True news\n",
        "\n",
        "# Step 4: Combine datasets\n",
        "df = pd.concat([df_fake, df_true], axis=0).reset_index(drop=True)\n",
        "\n",
        "# Step 5: Define text preprocessing function\n",
        "def preprocess_text(text):\n",
        "    text = text.lower()  # Lowercasing\n",
        "    text = re.sub(f\"[{string.punctuation}]\", \"\", text)  # Remove punctuation\n",
        "    text = re.sub(\"\\d+\", \"\", text)  # Remove numbers\n",
        "    text = re.sub(\"\\s+\", \" \", text).strip()  # Remove extra spaces\n",
        "    return text\n",
        "\n",
        "# Step 6: Apply preprocessing\n",
        "df[\"clean_text\"] = df[\"text\"].astype(str).apply(preprocess_text)\n",
        "\n",
        "# Step 7: Save the preprocessed data\n",
        "df[[\"clean_text\", \"label\"]].to_csv(\"preprocessed_news.csv\", index=False)\n",
        "\n",
        "print(\"Preprocessing complete. Data saved as 'preprocessed_news.csv'.\")\n"
      ]
    },
    {
      "cell_type": "code",
      "source": [
        "import pandas as pd\n",
        "from sklearn.feature_extraction.text import TfidfVectorizer\n",
        "\n",
        "# Load dataset\n",
        "df = pd.read_csv(\"preprocessed_news.csv\")\n",
        "\n",
        "# Step 1: Ensure all text values are strings\n",
        "df[\"clean_text\"] = df[\"clean_text\"].astype(str)\n",
        "\n",
        "# Step 2: Remove any empty strings or NaN values\n",
        "df = df[df[\"clean_text\"].str.strip() != \"\"]  # Remove empty text rows\n",
        "df = df.dropna(subset=[\"clean_text\"])  # Drop NaN rows\n",
        "\n",
        "# Step 3: Apply TF-IDF Vectorization\n",
        "vectorizer = TfidfVectorizer(max_features=5000)\n",
        "X = vectorizer.fit_transform(df[\"clean_text\"])\n",
        "y = df[\"label\"]\n",
        "\n",
        "print(\"TF-IDF transformation successful!\")\n"
      ],
      "metadata": {
        "colab": {
          "base_uri": "https://localhost:8080/"
        },
        "id": "J2CF3tAmkKtS",
        "outputId": "960ae682-a5de-477f-cfef-8bcbbddf5628"
      },
      "execution_count": null,
      "outputs": [
        {
          "output_type": "stream",
          "name": "stdout",
          "text": [
            "TF-IDF transformation successful!\n"
          ]
        }
      ]
    },
    {
      "cell_type": "code",
      "source": [
        "import pandas as pd\n",
        "import numpy as np\n",
        "from sklearn.model_selection import train_test_split\n",
        "from sklearn.svm import SVC\n",
        "from sklearn.metrics import accuracy_score, classification_report\n",
        "from sklearn.feature_extraction.text import TfidfVectorizer\n",
        "\n",
        "# Load preprocessed dataset\n",
        "df = pd.read_csv(\"preprocessed_news.csv\")\n",
        "\n",
        "# Ensure all text values are strings\n",
        "df[\"clean_text\"] = df[\"clean_text\"].astype(str)\n",
        "\n",
        "# Remove empty strings and NaN values\n",
        "df = df[df[\"clean_text\"].str.strip() != \"\"]\n",
        "df = df.dropna(subset=[\"clean_text\"])\n",
        "\n",
        "# Apply TF-IDF Vectorization\n",
        "vectorizer = TfidfVectorizer(max_features=5000)\n",
        "X = vectorizer.fit_transform(df[\"clean_text\"])\n",
        "y = df[\"label\"]\n",
        "\n",
        "# Split data into training and testing sets (80% train, 20% test)\n",
        "X_train, X_test, y_train, y_test = train_test_split(X, y, test_size=0.2, random_state=42)\n",
        "\n",
        "# Train SVM model\n",
        "svm_model = SVC(kernel=\"linear\", C=1.0)\n",
        "svm_model.fit(X_train, y_train)\n",
        "\n",
        "# Make predictions\n",
        "y_pred = svm_model.predict(X_test)\n",
        "\n",
        "# Evaluate model performance\n",
        "accuracy = accuracy_score(y_test, y_pred)\n",
        "print(f\"Model Accuracy: {accuracy:.4f}\")\n",
        "\n",
        "# Print classification report\n",
        "print(\"Classification Report:\")\n",
        "print(classification_report(y_test, y_pred))\n"
      ],
      "metadata": {
        "colab": {
          "base_uri": "https://localhost:8080/"
        },
        "id": "Vddn3MOXmN7I",
        "outputId": "975c02a5-90e6-41c6-ff9c-0845f69166f3"
      },
      "execution_count": null,
      "outputs": [
        {
          "output_type": "stream",
          "name": "stdout",
          "text": [
            "Model Accuracy: 0.9930\n",
            "Classification Report:\n",
            "              precision    recall  f1-score   support\n",
            "\n",
            "           0       0.99      0.99      0.99      4733\n",
            "           1       0.99      0.99      0.99      4247\n",
            "\n",
            "    accuracy                           0.99      8980\n",
            "   macro avg       0.99      0.99      0.99      8980\n",
            "weighted avg       0.99      0.99      0.99      8980\n",
            "\n"
          ]
        }
      ]
    },
    {
      "cell_type": "code",
      "source": [
        "import pandas as pd\n",
        "import numpy as np\n",
        "from sklearn.model_selection import train_test_split\n",
        "from sklearn.linear_model import LogisticRegression\n",
        "from sklearn.metrics import accuracy_score, classification_report\n",
        "from sklearn.feature_extraction.text import TfidfVectorizer\n",
        "\n",
        "# Load preprocessed dataset\n",
        "df = pd.read_csv(\"preprocessed_news.csv\")\n",
        "\n",
        "# Ensure all text values are strings\n",
        "df[\"clean_text\"] = df[\"clean_text\"].astype(str)\n",
        "\n",
        "# Remove empty strings and NaN values\n",
        "df = df[df[\"clean_text\"].str.strip() != \"\"]\n",
        "df = df.dropna(subset=[\"clean_text\"])\n",
        "\n",
        "# Apply TF-IDF Vectorization\n",
        "vectorizer = TfidfVectorizer(max_features=5000)\n",
        "X = vectorizer.fit_transform(df[\"clean_text\"])\n",
        "y = df[\"label\"]\n",
        "\n",
        "# Split data into training and testing sets (80% train, 20% test)\n",
        "X_train, X_test, y_train, y_test = train_test_split(X, y, test_size=0.2, random_state=42)\n",
        "\n",
        "# Train Logistic Regression model\n",
        "log_model = LogisticRegression(max_iter=1000)\n",
        "log_model.fit(X_train, y_train)\n",
        "\n",
        "# Make predictions\n",
        "y_pred = log_model.predict(X_test)\n",
        "\n",
        "# Evaluate model performance\n",
        "accuracy = accuracy_score(y_test, y_pred)\n",
        "print(f\"Model Accuracy: {accuracy:.4f}\")\n",
        "\n",
        "# Print classification report\n",
        "print(\"Classification Report:\")\n",
        "print(classification_report(y_test, y_pred))\n"
      ],
      "metadata": {
        "colab": {
          "base_uri": "https://localhost:8080/"
        },
        "id": "bOvFe2ovrJGu",
        "outputId": "f7d2d93d-6c14-4b60-b3d1-1aabc2e18231"
      },
      "execution_count": null,
      "outputs": [
        {
          "output_type": "stream",
          "name": "stdout",
          "text": [
            "Model Accuracy: 0.9860\n",
            "Classification Report:\n",
            "              precision    recall  f1-score   support\n",
            "\n",
            "           0       0.99      0.99      0.99      4733\n",
            "           1       0.98      0.99      0.99      4247\n",
            "\n",
            "    accuracy                           0.99      8980\n",
            "   macro avg       0.99      0.99      0.99      8980\n",
            "weighted avg       0.99      0.99      0.99      8980\n",
            "\n"
          ]
        }
      ]
    },
    {
      "cell_type": "code",
      "source": [
        "import pandas as pd\n",
        "import numpy as np\n",
        "from sklearn.model_selection import train_test_split\n",
        "from sklearn.tree import DecisionTreeClassifier\n",
        "from sklearn.metrics import accuracy_score, classification_report\n",
        "from sklearn.feature_extraction.text import TfidfVectorizer\n",
        "\n",
        "# Load preprocessed dataset\n",
        "df = pd.read_csv(\"preprocessed_news.csv\")\n",
        "\n",
        "# Ensure all text values are strings\n",
        "df[\"clean_text\"] = df[\"clean_text\"].astype(str)\n",
        "\n",
        "# Remove empty strings and NaN values\n",
        "df = df[df[\"clean_text\"].str.strip() != \"\"]\n",
        "df = df.dropna(subset=[\"clean_text\"])\n",
        "\n",
        "# Apply TF-IDF Vectorization\n",
        "vectorizer = TfidfVectorizer(max_features=5000)\n",
        "X = vectorizer.fit_transform(df[\"clean_text\"])\n",
        "y = df[\"label\"]\n",
        "\n",
        "# Split data into training and testing sets (80% train, 20% test)\n",
        "X_train, X_test, y_train, y_test = train_test_split(X, y, test_size=0.2, random_state=42)\n",
        "\n",
        "# Train Decision Tree model\n",
        "dt_model = DecisionTreeClassifier(random_state=42)\n",
        "dt_model.fit(X_train, y_train)\n",
        "\n",
        "# Make predictions\n",
        "y_pred = dt_model.predict(X_test)\n",
        "\n",
        "# Evaluate model performance\n",
        "accuracy = accuracy_score(y_test, y_pred)\n",
        "print(f\"Model Accuracy: {accuracy:.4f}\")\n",
        "\n",
        "# Print classification report\n",
        "print(\"Classification Report:\")\n",
        "print(classification_report(y_test, y_pred))\n"
      ],
      "metadata": {
        "colab": {
          "base_uri": "https://localhost:8080/"
        },
        "id": "qLu9sgUwxzus",
        "outputId": "a1420c63-1da5-4dcc-e3ad-a9f7d16a7864"
      },
      "execution_count": null,
      "outputs": [
        {
          "output_type": "stream",
          "name": "stdout",
          "text": [
            "Model Accuracy: 0.9951\n",
            "Classification Report:\n",
            "              precision    recall  f1-score   support\n",
            "\n",
            "           0       1.00      1.00      1.00      4733\n",
            "           1       1.00      0.99      0.99      4247\n",
            "\n",
            "    accuracy                           1.00      8980\n",
            "   macro avg       1.00      1.00      1.00      8980\n",
            "weighted avg       1.00      1.00      1.00      8980\n",
            "\n"
          ]
        }
      ]
    },
    {
      "cell_type": "code",
      "source": [
        "import pandas as pd\n",
        "import numpy as np\n",
        "from sklearn.model_selection import train_test_split\n",
        "from sklearn.ensemble import RandomForestClassifier\n",
        "from sklearn.metrics import accuracy_score, classification_report\n",
        "from sklearn.feature_extraction.text import TfidfVectorizer\n",
        "\n",
        "# Load preprocessed dataset\n",
        "df = pd.read_csv(\"preprocessed_news.csv\")\n",
        "\n",
        "# Ensure all text values are strings\n",
        "df[\"clean_text\"] = df[\"clean_text\"].astype(str)\n",
        "\n",
        "# Remove empty strings and NaN values\n",
        "df = df[df[\"clean_text\"].str.strip() != \"\"]\n",
        "df = df.dropna(subset=[\"clean_text\"])\n",
        "\n",
        "# Apply TF-IDF Vectorization\n",
        "vectorizer = TfidfVectorizer(max_features=5000)\n",
        "X = vectorizer.fit_transform(df[\"clean_text\"])\n",
        "y = df[\"label\"]\n",
        "\n",
        "# Split data into training and testing sets (80% train, 20% test)\n",
        "X_train, X_test, y_train, y_test = train_test_split(X, y, test_size=0.2, random_state=42)\n",
        "\n",
        "# Train Random Forest model\n",
        "rf_model = RandomForestClassifier(n_estimators=100, random_state=42)\n",
        "rf_model.fit(X_train, y_train)\n",
        "\n",
        "# Make predictions\n",
        "y_pred = rf_model.predict(X_test)\n",
        "\n",
        "# Evaluate model performance\n",
        "accuracy = accuracy_score(y_test, y_pred)\n",
        "print(f\"Model Accuracy: {accuracy:.4f}\")\n",
        "\n",
        "# Print classification report\n",
        "print(\"Classification Report:\")\n",
        "print(classification_report(y_test, y_pred))\n"
      ],
      "metadata": {
        "colab": {
          "base_uri": "https://localhost:8080/"
        },
        "id": "tUDGNUUWygVk",
        "outputId": "0da1c72a-fb45-4863-8567-958750227cae"
      },
      "execution_count": null,
      "outputs": [
        {
          "output_type": "stream",
          "name": "stdout",
          "text": [
            "Model Accuracy: 0.9965\n",
            "Classification Report:\n",
            "              precision    recall  f1-score   support\n",
            "\n",
            "           0       1.00      1.00      1.00      4733\n",
            "           1       1.00      1.00      1.00      4247\n",
            "\n",
            "    accuracy                           1.00      8980\n",
            "   macro avg       1.00      1.00      1.00      8980\n",
            "weighted avg       1.00      1.00      1.00      8980\n",
            "\n"
          ]
        }
      ]
    }
  ]
}